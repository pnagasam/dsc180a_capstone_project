{
 "cells": [
  {
   "cell_type": "code",
   "execution_count": 2,
   "id": "d31694ec",
   "metadata": {},
   "outputs": [],
   "source": [
    "from wilds import get_dataset\n",
    "from wilds.common.data_loaders import get_train_loader\n",
    "import torchvision.transforms as transforms\n",
    "\n",
    "import numpy as np\n",
    "import polars as pl\n",
    "import pandas as pd\n",
    "import matplotlib.pyplot as plt\n",
    "import pickle\n",
    "\n",
    "import torch\n",
    "import torchvision\n",
    "import torchvision.transforms as transforms\n",
    "\n",
    "import ot"
   ]
  },
  {
   "cell_type": "code",
   "execution_count": 3,
   "id": "7ae6098b",
   "metadata": {},
   "outputs": [],
   "source": [
    "dataset = get_dataset(dataset=\"poverty\", download=True)"
   ]
  },
  {
   "cell_type": "code",
   "execution_count": 13,
   "id": "28a6c56b",
   "metadata": {},
   "outputs": [],
   "source": [
    "# Get the training set\n",
    "train_data = dataset.get_subset(\n",
    "    \"train\",\n",
    ")\n",
    "valid_data = dataset.get_subset(\n",
    "    \"val\",\n",
    ")"
   ]
  },
  {
   "cell_type": "code",
   "execution_count": 14,
   "id": "6b110c4a",
   "metadata": {},
   "outputs": [],
   "source": [
    "train_loader = get_train_loader(\"standard\", train_data, batch_size=64)\n",
    "valid_loader = get_train_loader(\"standard\", valid_data, batch_size=64)"
   ]
  },
  {
   "cell_type": "code",
   "execution_count": 15,
   "id": "e9b49bdc",
   "metadata": {},
   "outputs": [],
   "source": [
    "with open(\"./data/poverty_v1.1/dhs_incountry_folds.pkl\", 'rb') as file:\n",
    "    folds = pickle.load(file)"
   ]
  },
  {
   "cell_type": "code",
   "execution_count": 16,
   "id": "423995db",
   "metadata": {},
   "outputs": [
    {
     "data": {
      "text/plain": [
       "(9797,)"
      ]
     },
     "execution_count": 16,
     "metadata": {},
     "output_type": "execute_result"
    }
   ],
   "source": [
    "_y = np.array([])\n",
    "for i, data in enumerate(train_loader, 0):\n",
    "    images, labels, meta = data\n",
    "    \n",
    "    _y = np.append(_y, labels)\n",
    "    \n",
    "_y.shape"
   ]
  },
  {
   "cell_type": "code",
   "execution_count": 17,
   "id": "83c6337f",
   "metadata": {},
   "outputs": [
    {
     "data": {
      "text/plain": [
       "0.1226555598191669"
      ]
     },
     "execution_count": 17,
     "metadata": {},
     "output_type": "execute_result"
    }
   ],
   "source": [
    "_mean = _y.mean()\n",
    "_mean"
   ]
  },
  {
   "cell_type": "code",
   "execution_count": 18,
   "id": "4b14fcd1",
   "metadata": {},
   "outputs": [
    {
     "data": {
      "text/plain": [
       "0.6560673337806222"
      ]
     },
     "execution_count": 18,
     "metadata": {},
     "output_type": "execute_result"
    }
   ],
   "source": [
    "_var = _y.var()\n",
    "_var"
   ]
  },
  {
   "cell_type": "code",
   "execution_count": null,
   "id": "41f51514",
   "metadata": {},
   "outputs": [],
   "source": []
  },
  {
   "cell_type": "code",
   "execution_count": 19,
   "id": "c36f762c",
   "metadata": {},
   "outputs": [
    {
     "data": {
      "image/png": "[encoded data removed]",
      "text/plain": [
       "<Figure size 432x288 with 1 Axes>"
      ]
     },
     "metadata": {
      "needs_background": "light"
     },
     "output_type": "display_data"
    }
   ],
   "source": [
    "lower_percentile = 33.333333\n",
    "upper_percentile = 66.666667\n",
    "\n",
    "lower_cutoff = np.percentile(_y, lower_percentile)\n",
    "upper_cutoff = np.percentile(_y, upper_percentile)\n",
    "\n",
    "plt.hist(_y, bins=300, density=True)\n",
    "plt.axvline(x=lower_cutoff, color='red', label=f'{round(lower_percentile, 1)} percentile')\n",
    "plt.axvline(x=upper_cutoff, color='orange', label=f'{round(upper_percentile, 1)} percentile')\n",
    "plt.legend()\n",
    "plt.title(\"Classification Cuttoffs\")\n",
    "plt.xlabel(\"Wealth Index\")\n",
    "plt.show()"
   ]
  },
  {
   "cell_type": "code",
   "execution_count": null,
   "id": "368f67d6",
   "metadata": {},
   "outputs": [],
   "source": []
  },
  {
   "cell_type": "code",
   "execution_count": 20,
   "id": "a484ac68",
   "metadata": {},
   "outputs": [],
   "source": [
    "# construct new y for classification task\n",
    "y_clf = np.where(_y < lower_cutoff, 0, np.where(_y > upper_cutoff, 2, 1))"
   ]
  },
  {
   "cell_type": "code",
   "execution_count": null,
   "id": "9a942549",
   "metadata": {},
   "outputs": [],
   "source": []
  },
  {
   "cell_type": "code",
   "execution_count": 21,
   "id": "a9ec040c",
   "metadata": {},
   "outputs": [
    {
     "name": "stdout",
     "output_type": "stream",
     "text": [
      "[1] train loss: 1.100 valid loss: 1.092\n",
      "[2] train loss: 1.099 valid loss: 1.092\n",
      "[3] train loss: 1.012 valid loss: 0.975\n",
      "[4] train loss: 0.912 valid loss: 0.920\n",
      "[5] train loss: 0.872 valid loss: 0.890\n",
      "[6] train loss: 0.844 valid loss: 0.854\n",
      "[7] train loss: 0.831 valid loss: 0.854\n",
      "[8] train loss: 0.818 valid loss: 0.830\n",
      "[9] train loss: 0.806 valid loss: 0.835\n",
      "[10] train loss: 0.796 valid loss: 0.830\n",
      "Finished Training\n",
      "CPU times: user 1h 16min 59s, sys: 8min 20s, total: 1h 25min 20s\n",
      "Wall time: 28min\n"
     ]
    }
   ],
   "source": [
    "%%time\n",
    "\n",
    "import torch.nn as nn\n",
    "import torch.nn.functional as F\n",
    "\n",
    "# Neural Net\n",
    "class Net(nn.Module):\n",
    "    def __init__(self):\n",
    "        super().__init__()\n",
    "        self.pool = nn.MaxPool2d(2, 2)\n",
    "        self.conv1 = nn.Conv2d(8, 48, 3)\n",
    "        self.conv2 = nn.Conv2d(48, 96, 3)\n",
    "        self.conv3 = nn.Conv2d(96, 1, 1)\n",
    "        \n",
    "        self.fc1 = nn.Linear(2916, 120)\n",
    "        self.fc2 = nn.Linear(120, 84)\n",
    "        self.fc3 = nn.Linear(84, 3)\n",
    "\n",
    "    def forward(self, x, meta):\n",
    "        x = self.pool(F.relu(self.conv1(x)))\n",
    "        x = self.pool(F.relu(self.conv2(x)))\n",
    "        x = F.relu(self.conv3(x))\n",
    "        x = torch.flatten(x, 1) # flatten all dimensions except batch\n",
    "        x = F.relu(self.fc1(x))\n",
    "        x = F.relu(self.fc2(x))\n",
    "        x = self.fc3(x)\n",
    "        return x\n",
    "\n",
    "\n",
    "net = Net()\n",
    "\n",
    "# put NN on GPU\n",
    "if torch.cuda.is_available():\n",
    "    net = net.cuda()\n",
    "    \n",
    "    \n",
    "# Loss Function\n",
    "import torch.optim as optim\n",
    "\n",
    "criterion = nn.CrossEntropyLoss()\n",
    "optimizer = optim.SGD(net.parameters(), lr=0.001, momentum=0.9)\n",
    "\n",
    "# Training Loop\n",
    "train_losses = []\n",
    "valid_losses = []\n",
    "for epoch in range(10):  # loop over the dataset multiple times\n",
    "\n",
    "    running_loss = 0.0\n",
    "    count = 0\n",
    "    for i, data in enumerate(train_loader, 0):\n",
    "        # get the inputs; data is a list of [inputs, labels]\n",
    "        images, labels, meta = data\n",
    "        \n",
    "        # classification labels based off of cutoffs\n",
    "        labels = torch.where(labels < lower_cutoff, 0, torch.where(labels > upper_cutoff, 2, 1)).flatten()\n",
    "        \n",
    "        # put data onto gpu if available\n",
    "        if torch.cuda.is_available():\n",
    "            images, labels, meta = images.cuda(), labels.cuda(), meta.cuda()\n",
    "        \n",
    "        # zero the parameter gradients\n",
    "        optimizer.zero_grad()\n",
    "\n",
    "        # forward + backward + optimize\n",
    "        outputs = net(images, meta)\n",
    "        \n",
    "        loss = criterion(outputs, labels)\n",
    "        loss.backward()\n",
    "        optimizer.step()\n",
    "\n",
    "\n",
    "        running_loss += loss.item()\n",
    "        count += 1\n",
    "    # append statistics\n",
    "    train_losses.append(running_loss / float(count))\n",
    "    \n",
    "    # validation\n",
    "    with torch.no_grad():\n",
    "        running_loss = 0.0\n",
    "        count = 0\n",
    "        for i, data in enumerate(valid_loader, 0):\n",
    "            # get the inputs; data is a list of [inputs, labels]\n",
    "            images, labels, meta = data\n",
    "\n",
    "            # classification labels based off of cutoffs\n",
    "            labels = torch.where(labels < lower_cutoff, 0, torch.where(labels > upper_cutoff, 2, 1)).flatten()\n",
    "\n",
    "            # put data onto gpu if available\n",
    "            if torch.cuda.is_available():\n",
    "                images, labels, meta = images.cuda(), labels.cuda(), meta.cuda()\n",
    "    \n",
    "            # forward\n",
    "            outputs = net(images, meta)\n",
    "            loss = criterion(outputs, labels)\n",
    "            \n",
    "            running_loss += loss.item()\n",
    "            count += 1\n",
    "    # append statistics\n",
    "    valid_losses.append(running_loss / float(count))\n",
    "    \n",
    "    # print statistics\n",
    "    print(f'[{epoch + 1}] train loss: {train_losses[-1]:.3f} valid loss: {valid_losses[-1]:.3f}')\n",
    "\n",
    "print('Finished Training')"
   ]
  },
  {
   "cell_type": "code",
   "execution_count": 36,
   "id": "66ea0bed",
   "metadata": {},
   "outputs": [
    {
     "data": {
      "text/plain": [
       "0.632438501582117"
      ]
     },
     "execution_count": 36,
     "metadata": {},
     "output_type": "execute_result"
    }
   ],
   "source": [
    "correct = 0\n",
    "total = 0\n",
    "with torch.no_grad():\n",
    "    for data in train_loader:\n",
    "        images, labels, meta = data\n",
    "\n",
    "        labels = torch.where(labels < lower_cutoff, 0, torch.where(labels > upper_cutoff, 2, 1)).flatten()\n",
    "\n",
    "        if torch.cuda.is_available():\n",
    "                images, labels, meta = images.cuda(), labels.cuda(), meta.cuda()\n",
    "\n",
    "        outputs = net(images, meta)\n",
    "\n",
    "        correct += (outputs.argmax(dim=1) == labels).sum().item()\n",
    "        total += labels.shape[0]\n",
    "\n",
    "train_acc = correct/float(total)\n",
    "train_acc"
   ]
  },
  {
   "cell_type": "code",
   "execution_count": null,
   "id": "6600d97d",
   "metadata": {},
   "outputs": [],
   "source": []
  },
  {
   "cell_type": "code",
   "execution_count": 87,
   "id": "3066853d",
   "metadata": {},
   "outputs": [],
   "source": [
    "val_data = dataset.get_subset(\n",
    "    \"val\",\n",
    ")"
   ]
  },
  {
   "cell_type": "code",
   "execution_count": 88,
   "id": "6d48dd2a",
   "metadata": {},
   "outputs": [],
   "source": [
    "val_loader = get_train_loader(\"standard\", val_data, batch_size=64)"
   ]
  },
  {
   "cell_type": "code",
   "execution_count": 90,
   "id": "39dd3c69",
   "metadata": {},
   "outputs": [
    {
     "data": {
      "text/plain": [
       "0.6022000511639806"
      ]
     },
     "execution_count": 90,
     "metadata": {},
     "output_type": "execute_result"
    }
   ],
   "source": [
    "correct = 0\n",
    "total = 0\n",
    "with torch.no_grad():\n",
    "    for data in val_loader:\n",
    "        images, labels, meta = data\n",
    "\n",
    "        labels = torch.where(labels < lower_cutoff, 0, torch.where(labels > upper_cutoff, 2, 1)).flatten()\n",
    "\n",
    "        if torch.cuda.is_available():\n",
    "                images, labels, meta = images.cuda(), labels.cuda(), meta.cuda()\n",
    "\n",
    "        outputs = net(images, meta)\n",
    "\n",
    "        correct += (outputs.argmax(dim=1) == labels).sum().item()\n",
    "        total += labels.shape[0]\n",
    "\n",
    "val_acc = correct/float(total)\n",
    "val_acc"
   ]
  },
  {
   "cell_type": "code",
   "execution_count": null,
   "id": "0c8a7629",
   "metadata": {},
   "outputs": [],
   "source": []
  },
  {
   "cell_type": "code",
   "execution_count": null,
   "id": "bdefc215",
   "metadata": {},
   "outputs": [],
   "source": []
  },
  {
   "cell_type": "code",
   "execution_count": 145,
   "id": "97af44f8",
   "metadata": {},
   "outputs": [],
   "source": [
    "def get_samples(loader, samples_per_batch=10):\n",
    "    samples = torch.tensor([])\n",
    "    for images, _, _ in loader:\n",
    "        s = torch.transpose(images, 0, 1).flatten(start_dim=1, end_dim=3)\n",
    "        idx = np.random.randint(low=0, high=s.shape[1], size=samples_per_batch)\n",
    "        samples = torch.cat((samples, s[:, idx]), dim=1)\n",
    "    return samples"
   ]
  },
  {
   "cell_type": "code",
   "execution_count": 108,
   "id": "84d97bd0",
   "metadata": {},
   "outputs": [
    {
     "data": {
      "text/plain": [
       "torch.Size([8, 1540])"
      ]
     },
     "execution_count": 108,
     "metadata": {},
     "output_type": "execute_result"
    }
   ],
   "source": [
    "t_s = get_samples(train_loader)\n",
    "t_s.shape"
   ]
  },
  {
   "cell_type": "code",
   "execution_count": 109,
   "id": "e76ee8f3",
   "metadata": {},
   "outputs": [
    {
     "data": {
      "text/plain": [
       "tensor([[ 0.4762, -0.0625,  0.8775,  ..., -0.1912, -0.2261, -0.4136],\n",
       "        [-0.0257,  0.5217,  1.1537,  ...,  0.1531, -0.5464, -0.3801],\n",
       "        [-0.0359,  0.1682,  1.2895,  ...,  0.4898, -0.1680, -0.1447],\n",
       "        ...,\n",
       "        [-0.7158,  0.0167,  1.3538,  ...,  0.2377,  1.1794,  0.5167],\n",
       "        [-1.6562, -0.3955,  0.2667,  ...,  0.2593, -0.5142, -0.4845],\n",
       "        [ 7.7032, -0.2047,  0.6873,  ..., -0.2101,  0.3300, -0.2128]])"
      ]
     },
     "execution_count": 109,
     "metadata": {},
     "output_type": "execute_result"
    }
   ],
   "source": [
    "v_s = get_samples(val_loader)\n",
    "v_s.shape"
   ]
  },
  {
   "cell_type": "code",
   "execution_count": 112,
   "id": "d5caaf0b",
   "metadata": {},
   "outputs": [
    {
     "name": "stderr",
     "output_type": "stream",
     "text": [
      "/home/llloyd/.local/lib/python3.9/site-packages/ot/bregman.py:492: UserWarning: Warning: numerical errors at iteration 0\n",
      "  warnings.warn('Warning: numerical errors at iteration %d' % ii)\n"
     ]
    },
    {
     "data": {
      "text/plain": [
       "<ot.da.SinkhornTransport at 0x7fa40c4fbca0>"
      ]
     },
     "execution_count": 112,
     "metadata": {},
     "output_type": "execute_result"
    }
   ],
   "source": [
    "ot_sinkhorn = ot.da.SinkhornTransport(reg_e=1e-1)\n",
    "ot_sinkhorn.fit(Xs=t_s, Xt=v_s)"
   ]
  },
  {
   "cell_type": "code",
   "execution_count": 114,
   "id": "08d2da1b",
   "metadata": {},
   "outputs": [
    {
     "data": {
      "text/plain": [
       "torch.Size([8, 1540])"
      ]
     },
     "execution_count": 114,
     "metadata": {},
     "output_type": "execute_result"
    }
   ],
   "source": [
    "v_s.shape"
   ]
  },
  {
   "cell_type": "code",
   "execution_count": 146,
   "id": "c7a6b93c",
   "metadata": {},
   "outputs": [
    {
     "data": {
      "image/png": "[encoded data removed]",
      "text/plain": [
       "<Figure size 432x288 with 1 Axes>"
      ]
     },
     "metadata": {
      "needs_background": "light"
     },
     "output_type": "display_data"
    }
   ],
   "source": [
    "ids = (0, 1)\n",
    "plt.scatter(t_s[ids[0], :].numpy(), t_s[ids[1], :].numpy())\n",
    "plt.scatter(v_s[ids[0], :].numpy(), v_s[ids[1], :].numpy())\n",
    "plt.show()"
   ]
  },
  {
   "cell_type": "code",
   "execution_count": null,
   "id": "d90140c2",
   "metadata": {},
   "outputs": [],
   "source": []
  },
  {
   "cell_type": "code",
   "execution_count": 147,
   "id": "4872ee21",
   "metadata": {},
   "outputs": [],
   "source": [
    "meta = pd.read_csv(\"./data/poverty_v1.1/dhs_metadata.csv\")"
   ]
  },
  {
   "cell_type": "code",
   "execution_count": 151,
   "id": "d4a45149",
   "metadata": {},
   "outputs": [],
   "source": [
    "c0 = meta[meta['country'] == 'angola'].index.values"
   ]
  },
  {
   "cell_type": "code",
   "execution_count": 160,
   "id": "c48ecbdd",
   "metadata": {},
   "outputs": [],
   "source": [
    "X = np.array([])\n",
    "y = np.array([])\n",
    "for i in c0:\n",
    "    img = np.load(f'./data/poverty_v1.1/images/landsat_poverty_img_{i}.npz')\n",
    "    X = np.append(X, img['x'])\n",
    "    "
   ]
  },
  {
   "cell_type": "code",
   "execution_count": 161,
   "id": "433a5bb0",
   "metadata": {},
   "outputs": [
    {
     "data": {
      "text/plain": [
       "array([-0.420178  , -0.420178  , -1.00248623, ..., -0.22900291,\n",
       "       -0.22900291, -0.22900291])"
      ]
     },
     "execution_count": 161,
     "metadata": {},
     "output_type": "execute_result"
    }
   ],
   "source": [
    "X"
   ]
  },
  {
   "cell_type": "code",
   "execution_count": 162,
   "id": "921f0305",
   "metadata": {},
   "outputs": [
    {
     "data": {
      "text/plain": [
       "401408"
      ]
     },
     "execution_count": 162,
     "metadata": {},
     "output_type": "execute_result"
    }
   ],
   "source": [
    "224*224*8"
   ]
  },
  {
   "cell_type": "code",
   "execution_count": null,
   "id": "d5d18a84",
   "metadata": {},
   "outputs": [],
   "source": []
  }
 ],
 "metadata": {
  "kernelspec": {
   "display_name": "Python 3 (ipykernel)",
   "language": "python",
   "name": "python3"
  },
  "language_info": {
   "codemirror_mode": {
    "name": "ipython",
    "version": 3
   },
   "file_extension": ".py",
   "mimetype": "text/x-python",
   "name": "python",
   "nbconvert_exporter": "python",
   "pygments_lexer": "ipython3",
   "version": "3.9.5"
  }
 },
 "nbformat": 4,
 "nbformat_minor": 5
}
