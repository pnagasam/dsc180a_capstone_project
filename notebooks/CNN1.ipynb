{
 "cells": [
  {
   "cell_type": "code",
   "execution_count": 1,
   "id": "0b614e25",
   "metadata": {},
   "outputs": [],
   "source": [
    "from wilds import get_dataset\n",
    "from wilds.common.data_loaders import get_train_loader\n",
    "import torchvision.transforms as transforms\n",
    "\n",
    "import numpy as np\n",
    "import polars as pl\n",
    "import matplotlib.pyplot as plt\n",
    "import pickle\n",
    "\n",
    "import torch\n",
    "import torchvision\n",
    "import torchvision.transforms as transforms\n",
    "\n",
    "import pandas as pd"
   ]
  },
  {
   "cell_type": "code",
   "execution_count": 14,
   "id": "60fe2756",
   "metadata": {},
   "outputs": [],
   "source": [
    "dataset = get_dataset(dataset=\"poverty\", download=True)"
   ]
  },
  {
   "cell_type": "code",
   "execution_count": 15,
   "id": "5ff8882a",
   "metadata": {},
   "outputs": [],
   "source": [
    "# Get the training set\n",
    "train_data = dataset.get_subset(\n",
    "    \"train\",\n",
    ")\n",
    "\n",
    "valid_data = dataset.get_subset(\n",
    "    \"val\",\n",
    ")"
   ]
  },
  {
   "cell_type": "code",
   "execution_count": 16,
   "id": "6efc61d2",
   "metadata": {},
   "outputs": [],
   "source": [
    "train_loader = get_train_loader(\"standard\", train_data, batch_size=64)\n",
    "valid_loader = get_train_loader(\"standard\", valid_data, batch_size=64)"
   ]
  },
  {
   "cell_type": "code",
   "execution_count": 17,
   "id": "1ec07eb7",
   "metadata": {},
   "outputs": [
    {
     "data": {
      "text/plain": [
       "True"
      ]
     },
     "execution_count": 17,
     "metadata": {},
     "output_type": "execute_result"
    }
   ],
   "source": [
    "torch.cuda.is_available()"
   ]
  },
  {
   "cell_type": "code",
   "execution_count": null,
   "id": "d0c19b4c",
   "metadata": {},
   "outputs": [],
   "source": []
  },
  {
   "cell_type": "code",
   "execution_count": null,
   "id": "c5d58613",
   "metadata": {},
   "outputs": [],
   "source": []
  },
  {
   "cell_type": "code",
   "execution_count": 18,
   "id": "6e75250d",
   "metadata": {},
   "outputs": [],
   "source": [
    "import torch.nn as nn\n",
    "import torch.nn.functional as F\n",
    "\n",
    "class Net2(nn.Module):\n",
    "    def __init__(self):\n",
    "        super().__init__()\n",
    "        self.pool = nn.MaxPool2d(2, 2)\n",
    "        self.conv1 = nn.Conv2d(8, 48, 3)\n",
    "        self.conv2 = nn.Conv2d(48, 96, 3)\n",
    "        self.conv3 = nn.Conv2d(96, 1, 1)\n",
    "        \n",
    "        self.fc1 = nn.Linear(2916, 120)\n",
    "        self.fc2 = nn.Linear(120, 84)\n",
    "        self.fc3 = nn.Linear(84, 1)\n",
    "\n",
    "    def forward(self, x, meta):\n",
    "        x = self.pool(F.relu(self.conv1(x)))\n",
    "        x = self.pool(F.relu(self.conv2(x)))\n",
    "        x = F.relu(self.conv3(x))\n",
    "        x = torch.flatten(x, 1) # flatten all dimensions except batch\n",
    "        x = F.relu(self.fc1(x))\n",
    "        x = F.relu(self.fc2(x))\n",
    "        x = self.fc3(x)\n",
    "        return x\n",
    "\n",
    "\n",
    "net2 = Net2()\n",
    "\n",
    "if torch.cuda.is_available():\n",
    "    net2 = net2.cuda()"
   ]
  },
  {
   "cell_type": "code",
   "execution_count": 19,
   "id": "a8ed9245",
   "metadata": {},
   "outputs": [],
   "source": [
    "import torch.optim as optim\n",
    "\n",
    "criterion = nn.MSELoss()\n",
    "optimizer = optim.SGD(net2.parameters(), lr=0.001, momentum=0.9)"
   ]
  },
  {
   "cell_type": "code",
   "execution_count": 22,
   "id": "320303a8",
   "metadata": {},
   "outputs": [
    {
     "name": "stdout",
     "output_type": "stream",
     "text": [
      "[1,   154] loss: 0.235\n",
      "val loss: 0.176\n",
      "[2,   154] loss: 0.233\n",
      "val loss: 0.190\n",
      "[3,   154] loss: 0.228\n",
      "val loss: 0.190\n",
      "[4,   154] loss: 0.226\n",
      "val loss: 0.189\n",
      "[5,   154] loss: 0.224\n",
      "val loss: 0.228\n",
      "[6,   154] loss: 0.226\n",
      "val loss: 0.199\n",
      "[7,   154] loss: 0.220\n",
      "val loss: 0.180\n",
      "[8,   154] loss: 0.218\n",
      "val loss: 0.184\n",
      "Finished Training\n"
     ]
    }
   ],
   "source": [
    "train_losses = []\n",
    "valid_losses = []\n",
    "for epoch in range(8):  # loop over the dataset multiple times\n",
    "\n",
    "    running_loss = 0.0\n",
    "    count = 0\n",
    "    for i, data in enumerate(train_loader, 0):\n",
    "        # get the inputs; data is a list of [inputs, labels]\n",
    "        images, labels, meta = data\n",
    "        \n",
    "        # put data onto gpu if available\n",
    "        if torch.cuda.is_available():\n",
    "            images, labels, meta = images.cuda(), labels.cuda(), meta.cuda()\n",
    "        \n",
    "        # zero the parameter gradients\n",
    "        optimizer.zero_grad()\n",
    "\n",
    "        # forward + backward + optimize\n",
    "        outputs = net2(images, meta)\n",
    "        loss = criterion(outputs, labels)\n",
    "        loss.backward()\n",
    "        optimizer.step()\n",
    "\n",
    "\n",
    "        running_loss += loss.item()\n",
    "        count += 1\n",
    "    # print statistics\n",
    "    print(f'[{epoch + 1}, {i + 1:5d}] loss: {running_loss / count:.3f}')\n",
    "    train_losses.append(running_loss/float(count))\n",
    "    \n",
    "    running_loss = 0.0\n",
    "    count = 0\n",
    "    with torch.no_grad():\n",
    "        for i, data in enumerate(valid_loader, 0):\n",
    "            # get the inputs; data is a list of [inputs, labels]\n",
    "            images, labels, meta = data\n",
    "\n",
    "            # put data onto gpu if available\n",
    "            if torch.cuda.is_available():\n",
    "                images, labels, meta = images.cuda(), labels.cuda(), meta.cuda()\n",
    "\n",
    "            outputs = net2(images, meta)\n",
    "            loss = criterion(outputs, labels)\n",
    "\n",
    "            running_loss += loss.item()\n",
    "            count += 1\n",
    "        # print statistics\n",
    "        print(f'val loss: {running_loss / count:.3f}')\n",
    "        valid_losses.append(running_loss/float(count))\n",
    "\n",
    "print('Finished Training')"
   ]
  },
  {
   "cell_type": "code",
   "execution_count": null,
   "id": "7679dab0",
   "metadata": {},
   "outputs": [],
   "source": [
    ".177"
   ]
  },
  {
   "cell_type": "code",
   "execution_count": 114,
   "id": "f1acd5b0",
   "metadata": {},
   "outputs": [],
   "source": [
    "train_y = np.array([])\n",
    "train_pred = np.array([])\n",
    "\n",
    "# since we're not training, we don't need to calculate the gradients for our outputs\n",
    "with torch.no_grad():\n",
    "    for data in train_loader:\n",
    "        images, labels, meta = data\n",
    "        \n",
    "        # put data onto gpu if available\n",
    "        if torch.cuda.is_available():\n",
    "            images, labels, meta = images.cuda(), labels.cuda(), meta.cuda()\n",
    "        \n",
    "        # calculate outputs by running images through the network\n",
    "        outputs = net2(images, meta)\n",
    "        \n",
    "        train_y = np.append(train_y, labels.cpu())\n",
    "        train_pred = np.append(train_pred, outputs.data.cpu())"
   ]
  },
  {
   "cell_type": "code",
   "execution_count": 115,
   "id": "7b04b421",
   "metadata": {},
   "outputs": [
    {
     "data": {
      "text/plain": [
       "-1.229017734527588"
      ]
     },
     "execution_count": 115,
     "metadata": {},
     "output_type": "execute_result"
    }
   ],
   "source": [
    "train_y.min()"
   ]
  },
  {
   "cell_type": "code",
   "execution_count": 143,
   "id": "047e9ee0",
   "metadata": {},
   "outputs": [
    {
     "data": {
      "text/plain": [
       "-0.5069403648376465"
      ]
     },
     "execution_count": 143,
     "metadata": {},
     "output_type": "execute_result"
    }
   ],
   "source": [
    "train_pred.min()"
   ]
  },
  {
   "cell_type": "code",
   "execution_count": null,
   "id": "19240fba",
   "metadata": {
    "scrolled": true
   },
   "outputs": [],
   "source": [
    "(((train_y - train_pred)**2).mean()-train_y.var())/train_y.var()"
   ]
  },
  {
   "cell_type": "code",
   "execution_count": 151,
   "id": "421787fc",
   "metadata": {
    "scrolled": true
   },
   "outputs": [
    {
     "data": {
      "text/plain": [
       "0.6560673337806222"
      ]
     },
     "execution_count": 151,
     "metadata": {},
     "output_type": "execute_result"
    }
   ],
   "source": [
    "train_y.var()"
   ]
  },
  {
   "cell_type": "code",
   "execution_count": null,
   "id": "839a0059",
   "metadata": {},
   "outputs": [],
   "source": []
  },
  {
   "cell_type": "code",
   "execution_count": 23,
   "id": "af12b0e5",
   "metadata": {},
   "outputs": [],
   "source": [
    "valid_y = np.array([])\n",
    "valid_pred = np.array([])\n",
    "\n",
    "# since we're not training, we don't need to calculate the gradients for our outputs\n",
    "with torch.no_grad():\n",
    "    for data in valid_loader:\n",
    "        images, labels, meta = data\n",
    "        \n",
    "        # put data onto gpu if available\n",
    "        if torch.cuda.is_available():\n",
    "            images, labels, meta = images.cuda(), labels.cuda(), meta.cuda()\n",
    "        \n",
    "        # calculate outputs by running images through the network\n",
    "        outputs = net2(images, meta)\n",
    "        \n",
    "        valid_y = np.append(valid_y, labels.cpu())\n",
    "        valid_pred = np.append(valid_pred, outputs.data.cpu())"
   ]
  },
  {
   "cell_type": "code",
   "execution_count": 24,
   "id": "1687d4ee",
   "metadata": {},
   "outputs": [
    {
     "data": {
      "text/plain": [
       "0.18637400729218512"
      ]
     },
     "execution_count": 24,
     "metadata": {},
     "output_type": "execute_result"
    }
   ],
   "source": [
    "((valid_y - valid_pred)**2).mean()"
   ]
  },
  {
   "cell_type": "code",
   "execution_count": 25,
   "id": "e2a0aca7",
   "metadata": {},
   "outputs": [
    {
     "data": {
      "text/plain": [
       "0.47868604767503037"
      ]
     },
     "execution_count": 25,
     "metadata": {},
     "output_type": "execute_result"
    }
   ],
   "source": [
    "valid_y.var()"
   ]
  },
  {
   "cell_type": "code",
   "execution_count": null,
   "id": "1ab78839",
   "metadata": {},
   "outputs": [],
   "source": []
  },
  {
   "cell_type": "code",
   "execution_count": 118,
   "id": "4a38aeab",
   "metadata": {},
   "outputs": [
    {
     "data": {
      "image/png": "[encoded data removed]",
      "text/plain": [
       "<Figure size 432x288 with 1 Axes>"
      ]
     },
     "metadata": {
      "needs_background": "light"
     },
     "output_type": "display_data"
    }
   ],
   "source": [
    "plt.hist((train_y - train_pred)**2, bins=100)\n",
    "plt.title(\"Squared Error\")\n",
    "plt.show()"
   ]
  },
  {
   "cell_type": "code",
   "execution_count": 137,
   "id": "fb12442d",
   "metadata": {},
   "outputs": [
    {
     "data": {
      "image/png": "[encoded data removed]",
      "text/plain": [
       "<Figure size 432x288 with 1 Axes>"
      ]
     },
     "metadata": {
      "needs_background": "light"
     },
     "output_type": "display_data"
    }
   ],
   "source": [
    "plt.hist(train_pred, bins=1000)\n",
    "plt.hist(train_y, bins=1000, alpha=0.5)\n",
    "plt.title(\"Predictions and True Values\")\n",
    "plt.show()"
   ]
  },
  {
   "cell_type": "code",
   "execution_count": null,
   "id": "ff69b46d",
   "metadata": {},
   "outputs": [],
   "source": []
  },
  {
   "cell_type": "code",
   "execution_count": 147,
   "id": "225cbea0",
   "metadata": {},
   "outputs": [
    {
     "data": {
      "text/plain": [
       "-0.47906115651130676"
      ]
     },
     "execution_count": 147,
     "metadata": {},
     "output_type": "execute_result"
    }
   ],
   "source": [
    "net2.cpu()(dataset[123][0][None], dataset[123][2][None])[0][0].item()"
   ]
  },
  {
   "cell_type": "code",
   "execution_count": 144,
   "id": "d72530d8",
   "metadata": {},
   "outputs": [
    {
     "name": "stdout",
     "output_type": "stream",
     "text": [
      "57\n",
      "75\n",
      "77\n",
      "121\n",
      "122\n",
      "126\n",
      "127\n",
      "130\n",
      "131\n",
      "133\n",
      "152\n",
      "160\n",
      "164\n",
      "175\n",
      "176\n",
      "233\n",
      "234\n",
      "236\n",
      "238\n",
      "239\n",
      "244\n",
      "260\n",
      "261\n",
      "263\n",
      "453\n",
      "509\n",
      "564\n",
      "627\n",
      "664\n",
      "742\n",
      "766\n",
      "770\n",
      "774\n",
      "777\n",
      "778\n",
      "794\n",
      "819\n",
      "824\n",
      "825\n",
      "845\n",
      "851\n",
      "852\n"
     ]
    }
   ],
   "source": [
    "for p in range(1000):\n",
    "    if net2.cpu()(dataset[p][0][None], dataset[p][2][None])[0][0].item() <= -0.5:\n",
    "        print(p)"
   ]
  },
  {
   "cell_type": "code",
   "execution_count": 99,
   "id": "d722862c",
   "metadata": {},
   "outputs": [],
   "source": [
    "_y = np.array([])\n",
    "_y_pred = np.array([])\n",
    "\n",
    "\n",
    "with torch.no_grad():\n",
    "    for i in range(100):\n",
    "        _y = np.append(_y, dataset[i][1])\n",
    "        _y_pred = np.append(_y_pred, net2.cpu()(dataset[i][0][None], dataset[i][2][None]))\n",
    "        "
   ]
  },
  {
   "cell_type": "code",
   "execution_count": 100,
   "id": "dc1f6b97",
   "metadata": {},
   "outputs": [
    {
     "data": {
      "text/plain": [
       "array([-1.0193609 , -1.09005249, -1.14300203,  1.05676901,  1.45406449,\n",
       "        1.70844567,  1.70110953,  1.54771316,  1.59246266,  1.70628917,\n",
       "        1.29460955,  0.99117357,  1.16622615, -0.95553303,  1.47247434,\n",
       "        1.24541461,  2.23700643,  1.47427261,  0.98741227,  0.15869898,\n",
       "       -0.94360435, -1.14929593,  1.03297925,  1.30253994, -0.93413574,\n",
       "        0.0344386 , -0.62296993,  1.00921047,  1.38325882, -1.14463282,\n",
       "        0.21154982, -1.16648209, -1.258183  , -1.11952424, -1.19205213,\n",
       "       -0.8104406 ,  1.15505421,  1.42686856, -0.66122097, -0.73772377,\n",
       "        1.13657022,  1.86424863,  1.72541571,  1.33544159,  1.54196131,\n",
       "        1.81660414,  0.40904918,  1.6719749 ,  1.57822442,  2.11094522,\n",
       "        0.8000375 , -1.03021395, -0.84018356,  2.59561753, -0.07346991,\n",
       "        0.72167271,  0.90646887, -0.80004483,  1.87934387,  1.74931741,\n",
       "        1.1053592 , -0.46350324, -1.0571233 , -0.11726858,  0.38161853,\n",
       "        2.20962048,  0.18236142,  0.69121599, -0.48142657, -0.90661067,\n",
       "       -1.17829394,  0.4095335 , -1.0633744 , -1.13135445, -1.04396415,\n",
       "       -0.62332767, -0.94889927, -0.80119652, -0.3678565 ,  0.15795271,\n",
       "        0.20976599,  0.20641752,  0.936777  ,  0.29319105, -0.05265219,\n",
       "       -0.16437396, -0.21236886,  0.90219295, -0.04077934, -0.87132818,\n",
       "       -0.93222094, -0.81828356, -0.90951586, -0.8352325 , -0.65778649,\n",
       "       -1.14221025, -0.85293049, -0.98601055, -0.82690609, -0.81972271])"
      ]
     },
     "execution_count": 100,
     "metadata": {},
     "output_type": "execute_result"
    }
   ],
   "source": [
    "_y"
   ]
  },
  {
   "cell_type": "code",
   "execution_count": 101,
   "id": "9c0ea8c6",
   "metadata": {},
   "outputs": [
    {
     "data": {
      "text/plain": [
       "array([ 0.12386689, -0.01421173, -0.26011232,  2.17806935,  1.83364081,\n",
       "        1.978652  ,  1.54503107,  2.0808382 ,  2.07136512,  2.05816293,\n",
       "        1.66236806,  1.7560389 ,  1.74165416, -0.49958509,  1.75715947,\n",
       "        1.65146828,  1.75538445,  1.65080404,  1.40482783,  1.23084283,\n",
       "        0.78295308,  0.5228374 ,  1.29689527,  1.31361127, -0.23893569,\n",
       "        0.54510623,  0.48568034,  1.58184695,  1.53843951,  0.3105191 ,\n",
       "        0.99160308,  0.16765332,  0.31108934, -0.21940491, -0.37049827,\n",
       "       -0.27947009,  0.67612225,  0.81310302,  0.34858346,  0.27456826,\n",
       "        1.59495139,  1.64246941,  1.62192345,  1.64906216,  1.64195728,\n",
       "        1.645854  , -0.48835504,  1.61743593,  1.59510875,  1.43196917,\n",
       "        0.98061961,  1.22323132,  0.27529556,  1.25869775,  0.73711681,\n",
       "        0.45548028,  1.4422245 , -0.50514233,  1.59906197,  1.6144073 ,\n",
       "        1.54264927,  0.70377523,  0.39669913,  1.50034714,  1.46232033,\n",
       "        1.6345377 ,  1.10150099,  1.06017041,  0.00859566,  0.18297523,\n",
       "        0.19244826,  0.87504989,  0.71271789, -0.48446989, -0.46495932,\n",
       "       -0.50403261, -0.39625776, -0.50441325,  0.40944767,  0.55968678,\n",
       "        1.0754509 ,  0.97706395,  1.13312864,  1.32473397,  1.29060078,\n",
       "        1.30442309, -0.40307707, -0.40684897, -0.48395109, -0.40455943,\n",
       "       -0.25310564, -0.28236866, -0.39806482, -0.40500632,  0.11807841,\n",
       "       -0.11881483, -0.24322492,  0.20901686, -0.22789344, -0.29621103])"
      ]
     },
     "execution_count": 101,
     "metadata": {},
     "output_type": "execute_result"
    }
   ],
   "source": [
    "_y_pred"
   ]
  },
  {
   "cell_type": "code",
   "execution_count": 103,
   "id": "acacd418",
   "metadata": {},
   "outputs": [
    {
     "data": {
      "text/plain": [
       "0.7026532683053631"
      ]
     },
     "execution_count": 103,
     "metadata": {},
     "output_type": "execute_result"
    }
   ],
   "source": [
    "((_y - _y_pred)**2).mean()"
   ]
  },
  {
   "cell_type": "code",
   "execution_count": 107,
   "id": "8fed1ff6",
   "metadata": {},
   "outputs": [
    {
     "data": {
      "image/png": "[encoded data removed]",
      "text/plain": [
       "<Figure size 432x288 with 1 Axes>"
      ]
     },
     "metadata": {
      "needs_background": "light"
     },
     "output_type": "display_data"
    }
   ],
   "source": [
    "plt.hist((_y - _y_pred)**2)\n",
    "plt.title('squared error')\n",
    "plt.show()"
   ]
  },
  {
   "cell_type": "code",
   "execution_count": 109,
   "id": "224c3896",
   "metadata": {},
   "outputs": [
    {
     "data": {
      "text/plain": [
       "(array([22.,  5.,  8., 10.,  6.,  7.,  9., 16., 12.,  5.]),\n",
       " array([-0.50514233, -0.23682116,  0.03150001,  0.29982117,  0.56814234,\n",
       "         0.83646351,  1.10478468,  1.37310585,  1.64142702,  1.90974818,\n",
       "         2.17806935]),\n",
       " <BarContainer object of 10 artists>)"
      ]
     },
     "execution_count": 109,
     "metadata": {},
     "output_type": "execute_result"
    },
    {
     "data": {
      "image/png": "[encoded data removed]",
      "text/plain": [
       "<Figure size 432x288 with 1 Axes>"
      ]
     },
     "metadata": {
      "needs_background": "light"
     },
     "output_type": "display_data"
    }
   ],
   "source": [
    "plt.hist(_y, label='y', alpha=0.7)\n",
    "plt.hist(_y_pred, label='pred', alpha=0.7)\n",
    "plt."
   ]
  },
  {
   "cell_type": "code",
   "execution_count": 150,
   "id": "588a95bf",
   "metadata": {},
   "outputs": [],
   "source": [
    "#explore different loss functions\n",
    "# classify between 40th and 60th percentiles"
   ]
  },
  {
   "cell_type": "code",
   "execution_count": null,
   "id": "9d6ea171",
   "metadata": {},
   "outputs": [],
   "source": []
  },
  {
   "cell_type": "code",
   "execution_count": 110,
   "id": "092459c5",
   "metadata": {},
   "outputs": [
    {
     "data": {
      "text/plain": [
       "Net2(\n",
       "  (pool): MaxPool2d(kernel_size=2, stride=2, padding=0, dilation=1, ceil_mode=False)\n",
       "  (conv1): Conv2d(8, 48, kernel_size=(3, 3), stride=(1, 1))\n",
       "  (conv2): Conv2d(48, 96, kernel_size=(3, 3), stride=(1, 1))\n",
       "  (conv3): Conv2d(96, 1, kernel_size=(1, 1), stride=(1, 1))\n",
       "  (fc1): Linear(in_features=2916, out_features=120, bias=True)\n",
       "  (fc2): Linear(in_features=120, out_features=84, bias=True)\n",
       "  (fc3): Linear(in_features=84, out_features=1, bias=True)\n",
       ")"
      ]
     },
     "execution_count": 110,
     "metadata": {},
     "output_type": "execute_result"
    }
   ],
   "source": []
  },
  {
   "cell_type": "code",
   "execution_count": null,
   "id": "9188a27e",
   "metadata": {},
   "outputs": [],
   "source": []
  },
  {
   "cell_type": "code",
   "execution_count": null,
   "id": "34e1bdf5",
   "metadata": {},
   "outputs": [],
   "source": []
  },
  {
   "cell_type": "code",
   "execution_count": null,
   "id": "0036df3f",
   "metadata": {},
   "outputs": [],
   "source": []
  },
  {
   "cell_type": "code",
   "execution_count": 153,
   "id": "e35ac1a0",
   "metadata": {},
   "outputs": [],
   "source": [
    "val_data = dataset.get_subset(\n",
    "    \"val\",\n",
    ")"
   ]
  },
  {
   "cell_type": "code",
   "execution_count": 154,
   "id": "7832c6be",
   "metadata": {},
   "outputs": [],
   "source": [
    "val_loader = get_train_loader(\"standard\", val_data, batch_size=64)"
   ]
  },
  {
   "cell_type": "code",
   "execution_count": 159,
   "id": "35e5ce51",
   "metadata": {},
   "outputs": [],
   "source": [
    "val_y = np.array([])\n",
    "val_pred = np.array([])\n",
    "\n",
    "# since we're not training, we don't need to calculate the gradients for our outputs\n",
    "with torch.no_grad():\n",
    "    for data in val_loader:\n",
    "        images, labels, meta = data\n",
    "        \n",
    "        # put data onto gpu if available\n",
    "        if torch.cuda.is_available():\n",
    "            images, labels, meta = images.cuda(), labels.cuda(), meta.cuda()\n",
    "        \n",
    "        # calculate outputs by running images through the network\n",
    "        outputs = net2(images, meta)\n",
    "        \n",
    "        val_y = np.append(val_y, labels.cpu())\n",
    "        val_pred = np.append(val_pred, outputs.data.cpu())"
   ]
  },
  {
   "cell_type": "code",
   "execution_count": 160,
   "id": "84deb831",
   "metadata": {},
   "outputs": [
    {
     "data": {
      "image/png": "[encoded data removed]",
      "text/plain": [
       "<Figure size 432x288 with 1 Axes>"
      ]
     },
     "metadata": {
      "needs_background": "light"
     },
     "output_type": "display_data"
    }
   ],
   "source": [
    "plt.hist(val_pred, bins=1000)\n",
    "plt.hist(val_y, bins=1000, alpha=0.5)\n",
    "plt.title(\"Predictions and True Values\")\n",
    "plt.show()"
   ]
  },
  {
   "cell_type": "code",
   "execution_count": 161,
   "id": "54172443",
   "metadata": {},
   "outputs": [
    {
     "data": {
      "text/plain": [
       "0.2370367279781401"
      ]
     },
     "execution_count": 161,
     "metadata": {},
     "output_type": "execute_result"
    }
   ],
   "source": [
    "((val_y - val_pred)**2).mean()"
   ]
  },
  {
   "cell_type": "code",
   "execution_count": 162,
   "id": "93f52616",
   "metadata": {},
   "outputs": [
    {
     "data": {
      "text/plain": [
       "0.47868604767503037"
      ]
     },
     "execution_count": 162,
     "metadata": {},
     "output_type": "execute_result"
    }
   ],
   "source": [
    "val_y.var()"
   ]
  },
  {
   "cell_type": "code",
   "execution_count": null,
   "id": "fd337cac",
   "metadata": {},
   "outputs": [],
   "source": []
  },
  {
   "cell_type": "code",
   "execution_count": null,
   "id": "5d83e9c2",
   "metadata": {},
   "outputs": [],
   "source": []
  },
  {
   "cell_type": "code",
   "execution_count": null,
   "id": "65fc9ae1",
   "metadata": {},
   "outputs": [],
   "source": []
  }
 ],
 "metadata": {
  "kernelspec": {
   "display_name": "Python 3 (ipykernel)",
   "language": "python",
   "name": "python3"
  },
  "language_info": {
   "codemirror_mode": {
    "name": "ipython",
    "version": 3
   },
   "file_extension": ".py",
   "mimetype": "text/x-python",
   "name": "python",
   "nbconvert_exporter": "python",
   "pygments_lexer": "ipython3",
   "version": "3.9.5"
  }
 },
 "nbformat": 4,
 "nbformat_minor": 5
}
